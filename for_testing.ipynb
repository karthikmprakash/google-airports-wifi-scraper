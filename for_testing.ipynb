{
 "cells": [
  {
   "cell_type": "code",
   "execution_count": 43,
   "metadata": {},
   "outputs": [],
   "source": [
    "from selenium import webdriver\n",
    "import time\n",
    "import pandas as pd\n",
    "import requests\n",
    "from bs4 import BeautifulSoup as bs4\n",
    "import re"
   ]
  },
  {
   "cell_type": "code",
   "execution_count": 39,
   "metadata": {},
   "outputs": [],
   "source": [
    "driver = webdriver.Chrome(\"./chromedriver_win32/chromedriver.exe\")"
   ]
  },
  {
   "cell_type": "code",
   "execution_count": 40,
   "metadata": {},
   "outputs": [],
   "source": [
    "driver.get('https://www.google.com/maps/d/viewer?mid=1Z1dI8hoBZSJNWFx2xr_MMxSxSxY&ll=10.602124500000008%2C-66.9955364&z=8')"
   ]
  },
  {
   "cell_type": "code",
   "execution_count": 52,
   "metadata": {},
   "outputs": [
    {
     "data": {
      "text/plain": [
       "'... 376 more'"
      ]
     },
     "execution_count": 52,
     "metadata": {},
     "output_type": "execute_result"
    }
   ],
   "source": [
    "len_wifis_str = driver.find_element_by_xpath('/html/body/div[1]/div[3]/div[2]/div/div/div[2]/div/div/div[2]/div/div/div[3]/div[383]/span').text\n",
    "len_wifis_str"
   ]
  },
  {
   "cell_type": "code",
   "execution_count": 53,
   "metadata": {},
   "outputs": [
    {
     "data": {
      "text/plain": [
       "376"
      ]
     },
     "execution_count": 53,
     "metadata": {},
     "output_type": "execute_result"
    }
   ],
   "source": [
    "len_wifis = int(re.findall(r'\\d+',len_wifis_str)[0])\n",
    "len_wifis"
   ]
  },
  {
   "cell_type": "code",
   "execution_count": 186,
   "metadata": {},
   "outputs": [],
   "source": [
    "expand = driver.find_element_by_xpath('//*[@id=\"legendPanel\"]/div/div/div[2]/div/div/div[2]/div/div/div[3]/div[2]/div/div')\n",
    "expand.click()"
   ]
  },
  {
   "cell_type": "code",
   "execution_count": 187,
   "metadata": {},
   "outputs": [],
   "source": [
    "driver.find_element_by_xpath('/html/body/div[1]/div[3]/div[2]/div/div/div[2]/div/div/div[2]/div/div/div[3]/div[3]/div[2]/div').click()"
   ]
  },
  {
   "cell_type": "code",
   "execution_count": 14,
   "metadata": {},
   "outputs": [
    {
     "data": {
      "text/plain": [
       "'Amsterdam Airport Schiphol'"
      ]
     },
     "execution_count": 14,
     "metadata": {},
     "output_type": "execute_result"
    }
   ],
   "source": [
    "driver.find_elements_by_class_name('qqvbed-p83tee-lTBxed')[0].text"
   ]
  },
  {
   "cell_type": "code",
   "execution_count": 179,
   "metadata": {},
   "outputs": [],
   "source": [
    "description = driver.find_elements_by_class_name('qqvbed-p83tee-lTBxed')[1].text"
   ]
  },
  {
   "cell_type": "code",
   "execution_count": 182,
   "metadata": {},
   "outputs": [
    {
     "data": {
      "text/plain": [
       "'Free wifi; network name: Airport_Free_WiFi (1 hour time limit) -- British Airways Lounge password: lasvegas -- Crown Lounge 52 network name: klm-lounge - password (only phones need password - LoungeGuide): (your name)#KLM'"
      ]
     },
     "execution_count": 182,
     "metadata": {},
     "output_type": "execute_result"
    }
   ],
   "source": [
    "description.split('\\n\\n')[0]"
   ]
  },
  {
   "cell_type": "code",
   "execution_count": 19,
   "metadata": {},
   "outputs": [],
   "source": [
    "driver.find_element_by_xpath('/html/body/div[1]/div[3]/div[4]/div/div/div[3]/div[1]/div/span/span/span').click()"
   ]
  },
  {
   "cell_type": "code",
   "execution_count": null,
   "metadata": {},
   "outputs": [],
   "source": [
    "/html/body/div[1]/div[3]/div[2]/div/div/div[2]/div/div/div[2]/div/div/div[3]/div[3]\n",
    "/html/body/div[1]/div[3]/div[2]/div/div/div[2]/div/div/div[2]/div/div/div[3]/div[4]\n",
    "\n",
    "/html/body/div[1]/div[3]/div[2]/div/div/div[2]/div/div/div[2]/div/div/div[3]/div[3]/div[2]/div\n",
    "/html/body/div[1]/div[3]/div[2]/div/div/div[2]/div/div/div[2]/div/div/div[3]/div[4]/div[2]/div\n",
    "/html/body/div[1]/div[3]/div[2]/div/div/div[2]/div/div/div[2]/div/div/div[3]/div[5]/div[2]/div\n",
    "\n",
    "/html/body/div[1]/div[3]/div[2]/div/div/div[2]/div/div/div[2]/div/div/div[3]/div[382]/div[2]/div"
   ]
  },
  {
   "cell_type": "code",
   "execution_count": 20,
   "metadata": {},
   "outputs": [],
   "source": [
    "expand = driver.find_element_by_xpath('/html/body/div[1]/div[3]/div[2]/div/div/div[2]/div/div/div[2]/div/div/div[3]/div[3]')\n",
    "expand.click()"
   ]
  },
  {
   "cell_type": "code",
   "execution_count": null,
   "metadata": {},
   "outputs": [],
   "source": []
  },
  {
   "cell_type": "code",
   "execution_count": null,
   "metadata": {},
   "outputs": [],
   "source": []
  },
  {
   "cell_type": "code",
   "execution_count": null,
   "metadata": {},
   "outputs": [],
   "source": []
  },
  {
   "cell_type": "code",
   "execution_count": 165,
   "metadata": {},
   "outputs": [],
   "source": [
    "response = requests.request('GET','https://www.google.com/maps/d/viewer?mid=1Z1dI8hoBZSJNWFx2xr_MMxSxSxY&ll=10.602124500000008%2C-66.9955364&z=8')"
   ]
  },
  {
   "cell_type": "code",
   "execution_count": 166,
   "metadata": {},
   "outputs": [],
   "source": [
    "soup = bs4(response.text,'html.parser') "
   ]
  },
  {
   "cell_type": "code",
   "execution_count": 168,
   "metadata": {
    "scrolled": false
   },
   "outputs": [],
   "source": [
    "text = soup.find(\"div\")"
   ]
  },
  {
   "cell_type": "code",
   "execution_count": 169,
   "metadata": {
    "scrolled": false
   },
   "outputs": [
    {
     "data": {
      "text/plain": [
       "',[\\\\\"Frankfurt Airport\\\\\"],1],[\\\\\"description\\\\\",[\\\\\"Free wireless extended throughout entire airport. Network name: Frankfurt Airport, Hotspot Telekom - Name and email required. (Password: Internet)\\\\\\\\n\\\\\\\\nContribute to this map: http://bit.ly/2d13csJ\\\\\\\\nOffline version WiFox iOS: http://apple.co/2b7BatI\\\\\\\\nWiFox Android: http://bit.ly/2dDeaaN\\\\\"],1],[],[],[null,\\\\\"ChIJeflCVHQLvUcRMfP4IU3YdIo\\\\\",false]],null,1],[\\\\\"KRVRYOYUD_MY12600D52097EC700\\\\\",[[[40.9829888,28.8104425]]],[],[],0,[['"
      ]
     },
     "execution_count": 169,
     "metadata": {},
     "output_type": "execute_result"
    }
   ],
   "source": [
    "str(text).split('\\\\\"name\\\\\"')[2]"
   ]
  },
  {
   "cell_type": "code",
   "execution_count": 170,
   "metadata": {},
   "outputs": [
    {
     "data": {
      "text/plain": [
       "'[[\\\\\"name\\\\\",[\\\\\"Hartsfield-Jackson Atlanta International Airport\\\\\"],1],[\\\\\"description\\\\\",[\\\\\"Delta Sky Club password: giftdelta\\\\\\\\n -- Admirals Club (North Terminal, Concourse T) password: AirPass2020 -- The CLUB password: Georgia2013* -- United Lounge network name: united_club - password: CLUB6683 -- Free wifi network name: ATL Free Wi-Fi\\\\\\\\n\\\\\\\\nContribute to this map: http://bit.ly/2d13csJ\\\\\\\\nOffline version WiFox iOS: http://apple.co/2b7BatI\\\\\\\\nWiFox Android: http://bit.ly/2dDeaaN\\\\\"],1],[],[],[null,\\\\\"ChIJAVkD4S_99IgRSLCSGO-jF0E\\\\\",false]],null,12],[\\\\\"12A87C6035130850\\\\\",[[[42.3656132,-71.0095602]]],[],[]'"
      ]
     },
     "execution_count": 170,
     "metadata": {},
     "output_type": "execute_result"
    }
   ],
   "source": [
    "str(text).split(',0,')[13]"
   ]
  },
  {
   "cell_type": "code",
   "execution_count": 129,
   "metadata": {
    "scrolled": false
   },
   "outputs": [],
   "source": [
    "text_6 = str(text).split(',0,')[13]"
   ]
  },
  {
   "cell_type": "code",
   "execution_count": 130,
   "metadata": {},
   "outputs": [
    {
     "data": {
      "text/plain": [
       "'[[name,[Hartsfield-Jackson Atlanta International Airport],1],[description,[Delta Sky Club password: giftdelta\\\\\\\\n -- Admirals Club (North Terminal, Concourse T) password: AirPass2020 -- The CLUB password: Georgia2013* -- United Lounge network name: united_club - password: CLUB6683 -- Free wifi network name: ATL Free Wi-Fi\\\\\\\\n\\\\\\\\nContribute to this map: http://bit.ly/2d13csJ\\\\\\\\nOffline version WiFox iOS: http://apple.co/2b7BatI\\\\\\\\nWiFox Android: http://bit.ly/2dDeaaN],1],[],[],[null,ChIJAVkD4S_99IgRSLCSGO-jF0E,false]],null,12],[12A87C6035130850,[[[42.3656132,-71.0095602]]],[],[]'"
      ]
     },
     "execution_count": 130,
     "metadata": {},
     "output_type": "execute_result"
    }
   ],
   "source": [
    "text_6.replace('\\\\\"','')"
   ]
  },
  {
   "cell_type": "code",
   "execution_count": 131,
   "metadata": {},
   "outputs": [
    {
     "data": {
      "text/plain": [
       "'[[name,[Hartsfield-Jackson Atlanta International Airport],1],[description,[Delta Sky Club password: giftdelta\\\\\\\\n -- Admirals Club (North Terminal, Concourse T) password: AirPass2020 -- The CLUB password: Georgia2013* -- United Lounge network name: united_club - password: CLUB6683 -- Free wifi network name: ATL Free Wi-Fi\\\\\\\\n\\\\\\\\nContribute to this map: http://bit.ly/2d13csJ\\\\\\\\nOffline version WiFox iOS: http://apple.co/2b7BatI\\\\\\\\nWiFox Android: http://bit.ly/2dDeaaN],1],[],[],[null,ChIJAVkD4S_99IgRSLCSGO-jF0E,false]],null,12],[12A87C6035130850,[[[42.3656132,-71.0095602]]],[],[]'"
      ]
     },
     "execution_count": 131,
     "metadata": {},
     "output_type": "execute_result"
    }
   ],
   "source": [
    "text_6.replace('\\\\\"','')"
   ]
  },
  {
   "cell_type": "code",
   "execution_count": 172,
   "metadata": {},
   "outputs": [],
   "source": [
    "texts = soup.find_all('div')"
   ]
  },
  {
   "cell_type": "code",
   "execution_count": null,
   "metadata": {},
   "outputs": [],
   "source": []
  },
  {
   "cell_type": "code",
   "execution_count": 2,
   "metadata": {},
   "outputs": [],
   "source": [
    "from selenium import webdriver\n",
    "import time\n",
    "import pandas as pd\n",
    "\n",
    "driver = webdriver.Chrome(\"./chromedriver_win32/chromedriver.exe\")\n",
    "driver.get('https://www.google.com/maps/d/viewer?mid=1Z1dI8hoBZSJNWFx2xr_MMxSxSxY&ll=10.602124500000008%2C-66.9955364&z=8')\n",
    "pass_dict = {}\n",
    "driver.find_element_by_xpath('//*[@id=\"legendPanel\"]/div/div/div[2]/div/div/div[2]/div/div/div[3]/div[2]/div/div').click()\n",
    "for i in range(3,382):\n",
    "    try:\n",
    "        driver.find_element_by_xpath(f'/html/body/div[1]/div[3]/div[2]/div/div/div[2]/div/div/div[2]/div/div/div[3]/div[{i}]').click()\n",
    "    except :\n",
    "         pass\n",
    "    time.sleep(1)\n",
    "    name = driver.find_elements_by_class_name('qqvbed-p83tee-lTBxed')[0].text\n",
    "    pass_dict[name] = driver.find_elements_by_class_name('qqvbed-p83tee-lTBxed')[1].text.split('\\n\\n')[0]\n",
    "    driver.find_element_by_xpath('/html/body/div[1]/div[3]/div[4]/div/div/div[3]/div[1]/div/span/span/span').click()\n",
    "    time.sleep(1)"
   ]
  },
  {
   "cell_type": "code",
   "execution_count": 11,
   "metadata": {},
   "outputs": [],
   "source": [
    "import json\n",
    "with open('./airport_wifis.txt','w') as f:\n",
    "    f.write(json.dumps(pass_dict))"
   ]
  },
  {
   "cell_type": "code",
   "execution_count": 19,
   "metadata": {},
   "outputs": [],
   "source": [
    "wifi_dict={}\n",
    "for key, value in pass_dict.items():\n",
    "    new_value = value.split('\\n\\n')[0]\n",
    "    wifi_dict[key] = new_value\n",
    "    \n",
    "    "
   ]
  },
  {
   "cell_type": "code",
   "execution_count": 38,
   "metadata": {},
   "outputs": [
    {
     "data": {
      "text/plain": [
       "['Delta Sky Club network name: DeltaSkyClub - password: giftdelta',\n",
       " ' Admirals Club; password: AirPass2020 ',\n",
       " ' British Airways Lounge password: lasvegas ',\n",
       " ' Terminal 5 network name: Swiss Chicago - password: swissord ',\n",
       " ' SAS Lounge network name: saswipoint - password: sashome ',\n",
       " ' network name: AirFranceKLMLounge - password: afklm16ord']"
      ]
     },
     "execution_count": 38,
     "metadata": {},
     "output_type": "execute_result"
    }
   ],
   "source": [
    "wifi_dict[\"O\\'Hare International Airport\"].replace('\\n','').split('--')"
   ]
  },
  {
   "cell_type": "code",
   "execution_count": 27,
   "metadata": {},
   "outputs": [],
   "source": [
    "import json\n",
    "with open('./airport_wifis.txt','w') as f:\n",
    "    f.write(json.dumps(wifi_dict))"
   ]
  },
  {
   "cell_type": "code",
   "execution_count": 31,
   "metadata": {},
   "outputs": [
    {
     "data": {
      "text/plain": [
       "['Amsterdam Airport Schiphol',\n",
       " 'Frankfurt Airport',\n",
       " 'Istanbul Ataturk Airport',\n",
       " 'Simón Bolívar International Airport of Maiquetia',\n",
       " 'Sydney Airport',\n",
       " 'Vienna International Airport',\n",
       " 'Zagreb Airport',\n",
       " 'Heathrow Airport',\n",
       " 'La Aurora International Airport (GUA)',\n",
       " 'Stockholm Arlanda Airport',\n",
       " 'Ninoy Aquino International Airport',\n",
       " 'Sao Paulo International Airport',\n",
       " 'Hartsfield-Jackson Atlanta International Airport',\n",
       " 'Boston Logan International Airport',\n",
       " \"O'Hare International Airport\",\n",
       " 'Cincinnati/Northern Kentucky International Airport',\n",
       " 'DFW Airport',\n",
       " 'Detroit Metropolitan Wayne County Airport',\n",
       " 'Fort Lauderdale-Hollywood International Airport',\n",
       " 'Honolulu International Airport']"
      ]
     },
     "execution_count": 31,
     "metadata": {},
     "output_type": "execute_result"
    }
   ],
   "source": [
    "list(wifi_dict.keys())[0:20]"
   ]
  },
  {
   "cell_type": "code",
   "execution_count": null,
   "metadata": {},
   "outputs": [],
   "source": []
  }
 ],
 "metadata": {
  "kernelspec": {
   "display_name": "Python 3",
   "language": "python",
   "name": "python3"
  },
  "language_info": {
   "codemirror_mode": {
    "name": "ipython",
    "version": 3
   },
   "file_extension": ".py",
   "mimetype": "text/x-python",
   "name": "python",
   "nbconvert_exporter": "python",
   "pygments_lexer": "ipython3",
   "version": "3.7.4"
  }
 },
 "nbformat": 4,
 "nbformat_minor": 2
}
